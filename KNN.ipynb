{
 "cells": [
  {
   "cell_type": "code",
   "execution_count": 1,
   "metadata": {},
   "outputs": [
    {
     "data": {
      "text/plain": [
       "((178, 13), (178,))"
      ]
     },
     "execution_count": 1,
     "metadata": {},
     "output_type": "execute_result"
    }
   ],
   "source": [
    "from sklearn.datasets import load_wine\n",
    "\n",
    "dataset = load_wine() #load the wine dataset\n",
    "X = dataset[\"data\"] #assign features to X matrix\n",
    "y = dataset[\"target\"] # assign labels to Y vector\n",
    "feature_names = dataset[\"feature_names\"]\n",
    "X.shape, y.shape"
   ]
  },
  {
   "cell_type": "code",
   "execution_count": 2,
   "metadata": {},
   "outputs": [
    {
     "data": {
      "text/plain": [
       "['alcohol',\n",
       " 'malic_acid',\n",
       " 'ash',\n",
       " 'alcalinity_of_ash',\n",
       " 'magnesium',\n",
       " 'total_phenols',\n",
       " 'flavanoids',\n",
       " 'nonflavanoid_phenols',\n",
       " 'proanthocyanins',\n",
       " 'color_intensity',\n",
       " 'hue',\n",
       " 'od280/od315_of_diluted_wines',\n",
       " 'proline']"
      ]
     },
     "execution_count": 2,
     "metadata": {},
     "output_type": "execute_result"
    }
   ],
   "source": [
    "feature_names"
   ]
  },
  {
   "cell_type": "code",
   "execution_count": 3,
   "metadata": {},
   "outputs": [
    {
     "data": {
      "image/png": "[encoded data removed]",
      "text/plain": [
       "<Figure size 432x288 with 1 Axes>"
      ]
     },
     "metadata": {
      "needs_background": "light"
     },
     "output_type": "display_data"
    }
   ],
   "source": [
    "from matplotlib import pyplot as plt\n",
    "\n",
    "# Calculate min, max and limits on dataset\n",
    "x_min, x_max = X[:, 0].min() - 1, X[:, 0].max() + 1\n",
    "y_min, y_max = X[:, 1].min() - 1, X[:, 1].max() + 1\n",
    "\n",
    "# Plot wine dataset, encoding label with color\n",
    "plt.figure()\n",
    "\n",
    "color = ['tab:orange', 'tab:blue', 'tab:green']\n",
    "for i in [0, 1, 2]:\n",
    "    mask = y==i\n",
    "    plt.scatter(X[mask, 0], X[mask, 1], c=color[i], s = 20, label = i)\n",
    "plt.xlim(x_min, x_max)\n",
    "plt.ylim(y_min, y_max)\n",
    "plt.title(\"Data points\")\n",
    "plt.xlabel(feature_names[0], fontsize = 13)\n",
    "plt.ylabel(feature_names[1], fontsize = 13)\n",
    "\n",
    "plt.legend()\n",
    "\n",
    "plt.savefig(\"Wine_distribution.pdf\")\n",
    "\n",
    "plt.show()\n"
   ]
  },
  {
   "cell_type": "markdown",
   "metadata": {},
   "source": [
    "Select only features of itnterest: __alcohol__ and __malic acid__ features.\n",
    "Performing such reduction it is possible to visually represent the 2D feature space. "
   ]
  },
  {
   "cell_type": "markdown",
   "metadata": {},
   "source": [
    "Now the dataset is divided in training, validation and test set. Model will be trained on training set, while\n",
    "it will be evaluated on the validation set, on which hyperparameters tuning is performed."
   ]
  },
  {
   "cell_type": "code",
   "execution_count": 4,
   "metadata": {},
   "outputs": [],
   "source": [
    "# Split dataset without stratification too see how changes data distributino from train, test, validation set\n",
    "\n",
    "from sklearn.model_selection import train_test_split\n",
    "\n",
    "#shuffle = default True, since y array is ordered by category\n",
    "\n",
    "X_train, X_test, y_train, y_test = train_test_split(X[:, 0:2], y, test_size = 0.3, shuffle = True) #test size = 30% of the total\n",
    "\n",
    "X_train, X_val, y_train, y_val = train_test_split(X_train, y_train, test_size = 0.285, shuffle = True) #0.285*0.7 = 0.2 = validation set size"
   ]
  },
  {
   "cell_type": "code",
   "execution_count": 5,
   "metadata": {},
   "outputs": [
    {
     "name": "stdout",
     "output_type": "stream",
     "text": [
      "original\n",
      "0 0.33146067415730335\n",
      "1 0.398876404494382\n",
      "2 0.2696629213483146\n",
      "train\n",
      "0 0.4090909090909091\n",
      "1 0.3409090909090909\n",
      "2 0.25\n",
      "test\n",
      "0 0.2777777777777778\n",
      "1 0.4444444444444444\n",
      "2 0.2777777777777778\n",
      "validation\n",
      "0 0.2222222222222222\n",
      "1 0.4722222222222222\n",
      "2 0.3055555555555556\n"
     ]
    }
   ],
   "source": [
    "#Print distribution respect to the label for train, test, validation sets withput stratification\n",
    "\n",
    "from collections import Counter\n",
    "\n",
    "c = Counter(y)\n",
    "\n",
    "print(\"original\")\n",
    "for i in [0,1,2]:\n",
    "    print(i, c[i]/len(y))\n",
    "\n",
    "c = Counter(y_train)\n",
    "\n",
    "\n",
    "print(\"train\")\n",
    "for i in [0,1,2]:\n",
    "    print(i, c[i]/len(y_train))\n",
    "\n",
    "c = Counter(y_test)\n",
    "\n",
    "print(\"test\")\n",
    "for i in [0,1,2]:\n",
    "    print(i, c[i]/len(y_test))\n",
    "    \n",
    "c = Counter(y_val)\n",
    "\n",
    "print(\"validation\")\n",
    "for i in [0,1,2]:\n",
    "    print(i, c[i]/len(y_val))"
   ]
  },
  {
   "cell_type": "markdown",
   "metadata": {},
   "source": [
    "The 3 resulting datasets have unbalanced data distribution respect to each other and to the unsplitted dataset.\n",
    "This means we would train a model on a specific data distribution (training set), validate in a new one (validation set), for the model to perform on a third one (test set distribution).\n",
    "This unbalancement could result in bad performances: we can use stratification to preserve original data distribution."
   ]
  },
  {
   "cell_type": "code",
   "execution_count": 6,
   "metadata": {},
   "outputs": [],
   "source": [
    "from sklearn.model_selection import train_test_split\n",
    "\n",
    "#shuffle = default True, since y array is ordered by category\n",
    "\n",
    "X_train, X_test, y_train, y_test = train_test_split(X[:, 0:2], y, test_size = 0.3, shuffle = True, \n",
    "                                                    stratify = y, random_state = 1000) #test size = 30% of the total\n",
    "\n",
    "X_train, X_val, y_train, y_val = train_test_split(X_train, y_train, test_size = 0.285, shuffle = True, \n",
    "                                                 stratify = y_train, random_state = 300) #0.285*0.7 = 0.2 = validation set size"
   ]
  },
  {
   "cell_type": "code",
   "execution_count": 7,
   "metadata": {},
   "outputs": [
    {
     "name": "stdout",
     "output_type": "stream",
     "text": [
      "original\n",
      "0 0.33146067415730335\n",
      "1 0.398876404494382\n",
      "2 0.2696629213483146\n",
      "train\n",
      "0 0.32954545454545453\n",
      "1 0.4090909090909091\n",
      "2 0.26136363636363635\n",
      "test\n",
      "0 0.3333333333333333\n",
      "1 0.3888888888888889\n",
      "2 0.2777777777777778\n",
      "validation\n",
      "0 0.3333333333333333\n",
      "1 0.3888888888888889\n",
      "2 0.2777777777777778\n"
     ]
    }
   ],
   "source": [
    "# Print distribution of train, test, validation sets with stratification\n",
    "\n",
    "c = Counter(y)\n",
    "\n",
    "print(\"original\")\n",
    "for i in [0,1,2]:\n",
    "    print(i, c[i]/len(y))\n",
    "\n",
    "c = Counter(y_train)\n",
    "\n",
    "print(\"train\")\n",
    "for i in [0,1,2]:\n",
    "    print(i, c[i]/len(y_train))\n",
    "\n",
    "c = Counter(y_test)\n",
    "\n",
    "print(\"test\")\n",
    "for i in [0,1,2]:\n",
    "    print(i, c[i]/len(y_test))\n",
    "    \n",
    "c = Counter(y_val)\n",
    "\n",
    "print(\"validation\")\n",
    "for i in [0,1,2]:\n",
    "    print(i, c[i]/len(y_val))"
   ]
  },
  {
   "cell_type": "markdown",
   "metadata": {},
   "source": [
    "\n",
    "It is useful to have our data shuffled before being splitted, since the original label distribution is the following\n"
   ]
  },
  {
   "cell_type": "code",
   "execution_count": 8,
   "metadata": {},
   "outputs": [
    {
     "data": {
      "text/plain": [
       "array([0, 0, 0, 0, 0, 0, 0, 0, 0, 0, 0, 0, 0, 0, 0, 0, 0, 0, 0, 0, 0, 0,\n",
       "       0, 0, 0, 0, 0, 0, 0, 0, 0, 0, 0, 0, 0, 0, 0, 0, 0, 0, 0, 0, 0, 0,\n",
       "       0, 0, 0, 0, 0, 0, 0, 0, 0, 0, 0, 0, 0, 0, 0, 1, 1, 1, 1, 1, 1, 1,\n",
       "       1, 1, 1, 1, 1, 1, 1, 1, 1, 1, 1, 1, 1, 1, 1, 1, 1, 1, 1, 1, 1, 1,\n",
       "       1, 1, 1, 1, 1, 1, 1, 1, 1, 1, 1, 1, 1, 1, 1, 1, 1, 1, 1, 1, 1, 1,\n",
       "       1, 1, 1, 1, 1, 1, 1, 1, 1, 1, 1, 1, 1, 1, 1, 1, 1, 1, 1, 1, 2, 2,\n",
       "       2, 2, 2, 2, 2, 2, 2, 2, 2, 2, 2, 2, 2, 2, 2, 2, 2, 2, 2, 2, 2, 2,\n",
       "       2, 2, 2, 2, 2, 2, 2, 2, 2, 2, 2, 2, 2, 2, 2, 2, 2, 2, 2, 2, 2, 2,\n",
       "       2, 2])"
      ]
     },
     "execution_count": 8,
     "metadata": {},
     "output_type": "execute_result"
    }
   ],
   "source": [
    "y"
   ]
  },
  {
   "cell_type": "markdown",
   "metadata": {},
   "source": [
    "Next step is to import from scikit-learn KNeighborsClassifier, and build the KNN model on the training dataset.\n",
    "The training and evaluation operation will be performed for K = [1, 3, 5, 7].\n",
    "\n",
    "For the distance measure and weights parameters, I use default setting which provides euclidean distance (minkowski distance with p = 2) and uniform weights.\n",
    "\n",
    "\n",
    "__K = 1__"
   ]
  },
  {
   "cell_type": "code",
   "execution_count": 9,
   "metadata": {},
   "outputs": [],
   "source": [
    "from sklearn.neighbors import KNeighborsClassifier\n",
    "import numpy as np\n",
    "\n",
    "k = 1\n",
    "\n",
    "clf = KNeighborsClassifier(k)\n",
    "clf.fit(X_train, y_train)\n",
    "\n",
    "#instantiate prediction vector for all K values explored\n",
    "y_pred = np.zeros((4, y_val.shape[0]))"
   ]
  },
  {
   "cell_type": "markdown",
   "metadata": {},
   "source": [
    "Make prediction on the evaluation sete with K = 1 classifier"
   ]
  },
  {
   "cell_type": "code",
   "execution_count": 10,
   "metadata": {},
   "outputs": [],
   "source": [
    "y_pred[0] = clf.predict(X_val)"
   ]
  },
  {
   "cell_type": "markdown",
   "metadata": {},
   "source": [
    "Scatterplot the training data along with the decision boundaries created by the model"
   ]
  },
  {
   "cell_type": "code",
   "execution_count": 17,
   "metadata": {},
   "outputs": [
    {
     "data": {
      "image/png": "[encoded data removed]",
      "text/plain": [
       "<Figure size 432x288 with 1 Axes>"
      ]
     },
     "metadata": {
      "needs_background": "light"
     },
     "output_type": "display_data"
    }
   ],
   "source": [
    "import matplotlib.pyplot as plt\n",
    "from matplotlib.colors import ListedColormap\n",
    "\n",
    "\n",
    "# Create color maps\n",
    "cmap_light = ListedColormap(['#FFAAAA', '#AAFFAA', '#24BCD2'])\n",
    "cmap_bold = ListedColormap(['#FF0000', '#00FF00', '#00AAFF'])\n",
    "\n",
    "# Calculate min, max and limits on validation set\n",
    "x_min, x_max = X_val[:, 0].min() - 1, X_val[:, 0].max() + 1\n",
    "y_min, y_max = X_val[:, 1].min() - 1, X_val[:, 1].max() + 1\n",
    "\n",
    "# Plot validation set data with respective labels\n",
    "plt.figure()\n",
    "color = ['tab:orange', 'tab:blue', 'tab:green']\n",
    "for i in [0, 1, 2]:\n",
    "    mask = y_val==i\n",
    "    plt.scatter(X_val[mask, 0], X_val[mask, 1], c=color[i], s = 20, label = i)\n",
    "    \n",
    "plt.xlim(x_min, x_max)\n",
    "plt.ylim(y_min, y_max)\n",
    "plt.title(\"Validation points\")\n",
    "plt.xlabel(feature_names[0], fontsize = 13)\n",
    "plt.ylabel(feature_names[1], fontsize = 13)\n",
    "plt.legend()\n",
    "\n",
    "plt.show()"
   ]
  },
  {
   "cell_type": "markdown",
   "metadata": {},
   "source": [
    "Plot now the decisijon boundaries given by the fitted classifier with K = 1"
   ]
  },
  {
   "cell_type": "code",
   "execution_count": 12,
   "metadata": {},
   "outputs": [
    {
     "data": {
      "image/png": "[encoded data removed]",
      "text/plain": [
       "<Figure size 432x288 with 1 Axes>"
      ]
     },
     "metadata": {
      "needs_background": "light"
     },
     "output_type": "display_data"
    }
   ],
   "source": [
    "# Plot the decision boundary. For that, we will assign a color to each\n",
    "# point in the mesh [x_min, x_max]x[y_min, y_max].\n",
    "\n",
    "h = .02  # step size in the mesh\n",
    "\n",
    "x_min, x_max = X_val[:, 0].min() - 1, X_val[:, 0].max() + 1\n",
    "y_min, y_max = X_val[:, 1].min() - 1, X_val[:, 1].max() + 1\n",
    "\n",
    "#define meshgrid to represent boundaries on the plot\n",
    "xx, yy = np.meshgrid(np.arange(x_min, x_max, h),\n",
    "                     np.arange(y_min, y_max, h))\n",
    "\n",
    "#make predictions over all points in the meshgrid\n",
    "Z = clf.predict(np.c_[xx.ravel(), yy.ravel()])\n",
    "#Z.shape = xx.shape[0]*xx.shape[1]\n",
    "\n",
    "# Put the result into a color plot\n",
    "Z = Z.reshape(xx.shape)\n",
    "plt.figure()\n",
    "plt.pcolormesh(xx, yy, Z, cmap=cmap_light)\n",
    "\n",
    "# Plot also the validation points, with ground truth label y_val\n",
    "color = ['#FF0000', '#00FF00', '#00AAFF']\n",
    "for i in [0, 1, 2]:\n",
    "    mask = y_val == i\n",
    "    plt.scatter(X_val[mask, 0], X_val[mask, 1], c=color[i], cmap=cmap_bold,\n",
    "                edgecolor='k', s=20, label = i)\n",
    "\n",
    "plt.xlim(xx.min(), xx.max())\n",
    "plt.ylim(yy.min(), yy.max())\n",
    "plt.xlabel(feature_names[0], fontsize = 13)\n",
    "plt.ylabel(feature_names[1], fontsize = 13)\n",
    "plt.title(\"3-Classes classification (k = %i)\" % (k))\n",
    "plt.legend()\n",
    "\n",
    "plt.show()"
   ]
  },
  {
   "cell_type": "markdown",
   "metadata": {},
   "source": [
    "__K = 3__"
   ]
  },
  {
   "cell_type": "code",
   "execution_count": 13,
   "metadata": {},
   "outputs": [
    {
     "data": {
      "image/png": "[encoded data removed]",
      "text/plain": [
       "<Figure size 432x288 with 1 Axes>"
      ]
     },
     "metadata": {
      "needs_background": "light"
     },
     "output_type": "display_data"
    }
   ],
   "source": [
    "k = 3\n",
    "\n",
    "clf = KNeighborsClassifier(k)\n",
    "\n",
    "clf.fit(X_train, y_train)\n",
    "y_pred[1] = clf.predict(X_val)\n",
    "\n",
    "# Plot the decision boundary. For that, we will assign a color to each\n",
    "# point in the mesh [x_min, x_max]x[y_min, y_max].\n",
    "\n",
    "h = .02  # step size in the mesh\n",
    "\n",
    "x_min, x_max = X_val[:, 0].min() - 1, X_val[:, 0].max() + 1\n",
    "y_min, y_max = X_val[:, 1].min() - 1, X_val[:, 1].max() + 1\n",
    "xx, yy = np.meshgrid(np.arange(x_min, x_max, h),\n",
    "                     np.arange(y_min, y_max, h))\n",
    "Z = clf.predict(np.c_[xx.ravel(), yy.ravel()])\n",
    "\n",
    "\n",
    "# Put the result into a color plot\n",
    "Z = Z.reshape(xx.shape)\n",
    "plt.figure()\n",
    "plt.pcolormesh(xx, yy, Z, cmap=cmap_light)\n",
    "\n",
    "# Plot also the training points\n",
    "color = ['#FF0000', '#00FF00', '#00AAFF']\n",
    "for i in [0, 1, 2]:\n",
    "    mask = y_val == i\n",
    "    plt.scatter(X_val[mask, 0], X_val[mask, 1], c=color[i], cmap=cmap_bold,\n",
    "                edgecolor='k', s=20, label = i)\n",
    "plt.xlim(xx.min(), xx.max())\n",
    "plt.ylim(yy.min(), yy.max())\n",
    "plt.xlabel(feature_names[0], fontsize = 13)\n",
    "plt.ylabel(feature_names[1], fontsize = 13)\n",
    "plt.title(\"3-Class classification (k = %i)\" % (k))\n",
    "\n",
    "plt.show()"
   ]
  },
  {
   "cell_type": "markdown",
   "metadata": {},
   "source": [
    "__K = 5__"
   ]
  },
  {
   "cell_type": "code",
   "execution_count": 21,
   "metadata": {},
   "outputs": [
    {
     "data": {
      "image/png": "[encoded data removed]",
      "text/plain": [
       "<Figure size 432x288 with 1 Axes>"
      ]
     },
     "metadata": {
      "needs_background": "light"
     },
     "output_type": "display_data"
    }
   ],
   "source": [
    "k = 5\n",
    "\n",
    "clf = KNeighborsClassifier(k)\n",
    "\n",
    "clf.fit(X_train, y_train)\n",
    "y_pred[2] = clf.predict(X_val)\n",
    "\n",
    "# Plot the decision boundary. For that, we will assign a color to each\n",
    "# point in the mesh [x_min, x_max]x[y_min, y_max].\n",
    "\n",
    "h = .02  # step size in the mesh\n",
    "\n",
    "x_min, x_max = X_val[:, 0].min() - 1, X_val[:, 0].max() + 1\n",
    "y_min, y_max = X_val[:, 1].min() - 1, X_val[:, 1].max() + 1\n",
    "xx, yy = np.meshgrid(np.arange(x_min, x_max, h),\n",
    "                     np.arange(y_min, y_max, h))\n",
    "Z = clf.predict(np.c_[xx.ravel(), yy.ravel()])\n",
    "\n",
    "# Put the result into a color plot\n",
    "Z = Z.reshape(xx.shape)\n",
    "plt.figure()\n",
    "plt.pcolormesh(xx, yy, Z, cmap=cmap_light)\n",
    "\n",
    "# Plot also the training points\n",
    "color = ['#FF0000', '#00FF00', '#00AAFF']\n",
    "for i in [0, 1, 2]:\n",
    "    mask = y_val == i\n",
    "    plt.scatter(X_val[mask, 0], X_val[mask, 1], c=color[i], cmap=cmap_bold,\n",
    "                edgecolor='k', s=20, label = i)\n",
    "plt.xlim(xx.min(), xx.max())\n",
    "plt.ylim(yy.min(), yy.max())\n",
    "plt.xlabel(feature_names[0], fontsize = 13)\n",
    "plt.ylabel(feature_names[1], fontsize = 13)\n",
    "plt.title(\"3-Class classification (k = %i)\" % (k))\n",
    "plt.legend()\n",
    "\n",
    "plt.show()"
   ]
  },
  {
   "cell_type": "markdown",
   "metadata": {},
   "source": [
    "__K = 7__"
   ]
  },
  {
   "cell_type": "code",
   "execution_count": 22,
   "metadata": {},
   "outputs": [
    {
     "data": {
      "image/png": "[encoded data removed]",
      "text/plain": [
       "<Figure size 432x288 with 1 Axes>"
      ]
     },
     "metadata": {
      "needs_background": "light"
     },
     "output_type": "display_data"
    }
   ],
   "source": [
    "k = 7\n",
    "\n",
    "clf = KNeighborsClassifier(k)\n",
    "\n",
    "clf.fit(X_train, y_train)\n",
    "y_pred[3] = clf.predict(X_val)\n",
    "\n",
    "# Plot the decision boundary. For that, we will assign a color to each\n",
    "# point in the mesh [x_min, x_max]x[y_min, y_max].\n",
    "\n",
    "h = .02  # step size in the mesh\n",
    "\n",
    "x_min, x_max = X_val[:, 0].min() - 1, X_val[:, 0].max() + 1\n",
    "y_min, y_max = X_val[:, 1].min() - 1, X_val[:, 1].max() + 1\n",
    "xx, yy = np.meshgrid(np.arange(x_min, x_max, h),\n",
    "                     np.arange(y_min, y_max, h))\n",
    "Z = clf.predict(np.c_[xx.ravel(), yy.ravel()])\n",
    "\n",
    "# Put the result into a color plot\n",
    "Z = Z.reshape(xx.shape)\n",
    "plt.figure()\n",
    "plt.pcolormesh(xx, yy, Z, cmap=cmap_light)\n",
    "\n",
    "# Plot also the training points\n",
    "color = ['#FF0000', '#00FF00', '#00AAFF']\n",
    "for i in [0, 1, 2]:\n",
    "    mask = y_val == i\n",
    "    plt.scatter(X_val[mask, 0], X_val[mask, 1], c=color[i], cmap=cmap_bold,\n",
    "                edgecolor='k', s=20, label = i)\n",
    "plt.xlim(xx.min(), xx.max())\n",
    "plt.ylim(yy.min(), yy.max())\n",
    "plt.xlabel(feature_names[0], fontsize = 13)\n",
    "plt.ylabel(feature_names[1], fontsize = 13)\n",
    "plt.title(\"3-Class classification (k = %i)\" % (k))\n",
    "plt.legend()\n",
    "\n",
    "plt.show()"
   ]
  },
  {
   "cell_type": "markdown",
   "metadata": {},
   "source": [
    "Compute accuracy for  K = [1, 3, 5, 7]"
   ]
  },
  {
   "cell_type": "code",
   "execution_count": 16,
   "metadata": {},
   "outputs": [],
   "source": [
    "accuracy = np.zeros(4, dtype = float)"
   ]
  },
  {
   "cell_type": "code",
   "execution_count": 17,
   "metadata": {},
   "outputs": [
    {
     "data": {
      "text/plain": [
       "array([0.72, 0.86, 0.75, 0.78])"
      ]
     },
     "execution_count": 17,
     "metadata": {},
     "output_type": "execute_result"
    }
   ],
   "source": [
    "from sklearn.metrics import accuracy_score\n",
    "\n",
    "for index in range(4):\n",
    "    accuracy[index] = accuracy_score(y_val, y_pred[index]).round(decimals = 2)\n",
    "\n",
    "accuracy"
   ]
  },
  {
   "cell_type": "markdown",
   "metadata": {},
   "source": [
    "Plot accuracy scores on the validation set, for all k values tested.\n",
    "This graph will be exploited to chooese best for the instantiated model"
   ]
  },
  {
   "cell_type": "code",
   "execution_count": 23,
   "metadata": {},
   "outputs": [
    {
     "data": {
      "image/png": "[encoded data removed]",
      "text/plain": [
       "<Figure size 432x288 with 1 Axes>"
      ]
     },
     "metadata": {
      "needs_background": "light"
     },
     "output_type": "display_data"
    }
   ],
   "source": [
    "k_values = [1, 3, 5, 7]\n",
    "\n",
    "plt.figure()\n",
    "plt.plot(k_values, accuracy, linestyle='--', marker='o')\n",
    "plt.xlabel(\"C\", fontsize = 13)\n",
    "plt.ylabel(\"accuracy\", fontsize = 13)\n",
    "plt.title(\"KNN - Accuracy\")\n",
    "plt.ylim(accuracy.min()-0.12, accuracy.max()+0.04)\n",
    "plt.grid(True, axis = 'y')\n",
    "plt.show()"
   ]
  },
  {
   "cell_type": "markdown",
   "metadata": {},
   "source": [
    "According to accuracy metric best training in achieved with __K = 3__ \n",
    "\n",
    "Being hyperparameter tuning step concluded, the model can now perform on the test set."
   ]
  },
  {
   "cell_type": "code",
   "execution_count": 19,
   "metadata": {
    "scrolled": true
   },
   "outputs": [
    {
     "data": {
      "text/plain": [
       "0.8"
      ]
     },
     "execution_count": 19,
     "metadata": {},
     "output_type": "execute_result"
    }
   ],
   "source": [
    "clf = KNeighborsClassifier(3) #define a  model with best parameter: K = 3\n",
    "clf.fit(X_train, y_train) \n",
    "y_test_pred = clf.predict(X_test) #predicttion on the test set\n",
    "\n",
    "test_accuracy = accuracy_score(y_test, y_test_pred).round(decimals = 2) #prediction accuracy\n",
    "\n",
    "test_accuracy"
   ]
  },
  {
   "cell_type": "markdown",
   "metadata": {},
   "source": [
    "As one should expect the model decrease its performance on the test set of unseen data.\n",
    "Of course this model was very naive, with the goal of being able to visualize decision boundaries: therefore the number of features has been limited to 2. A higher number of features would likely increase the performance of the model.\n",
    "Also, we can do more in the tuning phase, using a cross validation which would give more reliable feedback on the model performance."
   ]
  },
  {
   "cell_type": "markdown",
   "metadata": {},
   "source": [
    "\n",
    "At last, it is possible to plot the confusion matrix for the predictions"
   ]
  },
  {
   "cell_type": "code",
   "execution_count": 20,
   "metadata": {},
   "outputs": [
    {
     "data": {
      "image/png": "[encoded data removed]",
      "text/plain": [
       "<Figure size 432x288 with 1 Axes>"
      ]
     },
     "metadata": {
      "needs_background": "light"
     },
     "output_type": "display_data"
    }
   ],
   "source": [
    "from sklearn.metrics import confusion_matrix\n",
    "import seaborn as sns\n",
    "import pandas as pd\n",
    "\n",
    "\n",
    "cmap = sns.cubehelix_palette(light=1, as_cmap=True)\n",
    "\n",
    "conf_mat = confusion_matrix(y_test, y_test_pred)\n",
    "\n",
    "# Plot the result\n",
    "label_names = ['0', '1', '2']\n",
    "conf_mat_df = pd.DataFrame(conf_mat, index = label_names, columns = label_names)\n",
    "conf_mat_df.index.name = 'Actual'\n",
    "conf_mat_df.columns.name = 'Predicted'\n",
    "sns.heatmap(conf_mat_df, annot=True, cmap= cmap, \n",
    "            annot_kws={\"size\": 16}, cbar=False)\n",
    "plt.show()"
   ]
  },
  {
   "cell_type": "markdown",
   "metadata": {},
   "source": [
    "From the above matrix, it is clear that worst accuracy is achieved for label 2. If we look at data distribution on our training set, \n",
    "we have the following partition per label:\n",
    "    \n",
    "__original__<br>\n",
    "0, 0.33146067415730335 <br>\n",
    "1, 0.398876404494382 <br>\n",
    "2, 0.2696629213483146 <br>\n",
    "\n",
    "One possible explaination for the worse performance is that for label 2 the set has the least number of training example, which\n",
    "for sure has an impact on model construction and prediciton on unseen data. "
   ]
  }
 ],
 "metadata": {
  "kernelspec": {
   "display_name": "Python 3",
   "language": "python",
   "name": "python3"
  },
  "language_info": {
   "codemirror_mode": {
    "name": "ipython",
    "version": 3
   },
   "file_extension": ".py",
   "mimetype": "text/x-python",
   "name": "python",
   "nbconvert_exporter": "python",
   "pygments_lexer": "ipython3",
   "version": "3.8.2"
  }
 },
 "nbformat": 4,
 "nbformat_minor": 4
}
